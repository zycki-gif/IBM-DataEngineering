{
 "cells": [
  {
   "cell_type": "markdown",
   "metadata": {},
   "source": [
    "<center>\n",
    "    <img src=\"https://gitlab.com/ibm/skills-network/courses/placeholder101/-/raw/master/labs/module%201/images/IDSNlogo.png\" width=\"300\" alt=\"cognitiveclass.ai logo\"  />\n",
    "</center>\n"
   ]
  },
  {
   "cell_type": "markdown",
   "metadata": {},
   "source": [
    "# Peer Review Assignment - Data Engineer - Extract API Data\n"
   ]
  },
  {
   "cell_type": "markdown",
   "metadata": {},
   "source": [
    "Estimated time needed: **20** minutes\n"
   ]
  },
  {
   "cell_type": "markdown",
   "metadata": {},
   "source": [
    "## Objectives\n",
    "\n",
    "In this part you will:\n",
    "\n",
    "*   Collect exchange rate data using an API\n",
    "*   Store the data as a CSV\n"
   ]
  },
  {
   "cell_type": "markdown",
   "metadata": {},
   "source": [
    "For this lab, we are going to be using Python and several Python libraries. Some of these libraries might be installed in your lab environment or in SN Labs. Others may need to be installed by you. The cells below will install these libraries when executed.\n"
   ]
  },
  {
   "cell_type": "code",
   "execution_count": 25,
   "metadata": {},
   "outputs": [
    {
     "name": "stdout",
     "output_type": "stream",
     "text": [
      "Requirement already satisfied: pandas in /home/jupyterlab/conda/envs/python/lib/python3.7/site-packages (1.3.5)\n",
      "Requirement already satisfied: python-dateutil>=2.7.3 in /home/jupyterlab/conda/envs/python/lib/python3.7/site-packages (from pandas) (2.8.2)\n",
      "Requirement already satisfied: pytz>=2017.3 in /home/jupyterlab/conda/envs/python/lib/python3.7/site-packages (from pandas) (2021.3)\n",
      "Requirement already satisfied: numpy>=1.17.3 in /home/jupyterlab/conda/envs/python/lib/python3.7/site-packages (from pandas) (1.21.5)\n",
      "Requirement already satisfied: six>=1.5 in /home/jupyterlab/conda/envs/python/lib/python3.7/site-packages (from python-dateutil>=2.7.3->pandas) (1.16.0)\n",
      "Requirement already satisfied: requests in /home/jupyterlab/conda/envs/python/lib/python3.7/site-packages (2.27.1)\n",
      "Requirement already satisfied: certifi>=2017.4.17 in /home/jupyterlab/conda/envs/python/lib/python3.7/site-packages (from requests) (2021.10.8)\n",
      "Requirement already satisfied: urllib3<1.27,>=1.21.1 in /home/jupyterlab/conda/envs/python/lib/python3.7/site-packages (from requests) (1.26.8)\n",
      "Requirement already satisfied: idna<4,>=2.5 in /home/jupyterlab/conda/envs/python/lib/python3.7/site-packages (from requests) (3.3)\n",
      "Requirement already satisfied: charset-normalizer~=2.0.0 in /home/jupyterlab/conda/envs/python/lib/python3.7/site-packages (from requests) (2.0.12)\n",
      "Requirement already satisfied: bs4 in /home/jupyterlab/conda/envs/python/lib/python3.7/site-packages (0.0.1)\n",
      "Requirement already satisfied: beautifulsoup4 in /home/jupyterlab/conda/envs/python/lib/python3.7/site-packages (from bs4) (4.10.0)\n",
      "Requirement already satisfied: soupsieve>1.2 in /home/jupyterlab/conda/envs/python/lib/python3.7/site-packages (from beautifulsoup4->bs4) (2.3.1)\n"
     ]
    }
   ],
   "source": [
    "!pip install pandas\n",
    "!pip install requests\n",
    "!pip install bs4"
   ]
  },
  {
   "cell_type": "markdown",
   "metadata": {},
   "source": [
    "## Imports\n",
    "\n",
    "Import any additional libraries you may need here.\n"
   ]
  },
  {
   "cell_type": "code",
   "execution_count": 26,
   "metadata": {},
   "outputs": [],
   "source": [
    "import requests\n",
    "import pandas as pd\n",
    "import json\n",
    "from bs4 import BeautifulSoup"
   ]
  },
  {
   "cell_type": "markdown",
   "metadata": {},
   "source": [
    "## Extract Data Using an API\n"
   ]
  },
  {
   "cell_type": "markdown",
   "metadata": {},
   "source": [
    "Using ExchangeRate-API we will extract currency exchange rate data. Use the below steps to get the access key and to get the data.\n",
    "\n",
    "1.  Open the url : [https://exchangeratesapi.io/](https://exchangeratesapi.io/?utm_medium=Exinfluencer&utm_source=Exinfluencer&utm_content=000026UJ&utm_term=10006555&utm_id=NA-SkillsNetwork-Channel-SkillsNetworkCoursesIBMDeveloperSkillsNetworkPY0221ENSkillsNetwork23455645-2021-01-01) and create a free account.\n",
    "2.  Once the account is created. You will get the Get the Free API key option on the top as shown below:\n",
    "\n",
    "<img src=\"https://cf-courses-data.s3.us.cloud-object-storage.appdomain.cloud/IBMDeveloperSkillsNetwork-PY0221EN-SkillsNetwork/labs/module%206/Final%20Assignment/Images/getapi.png\"/>\n",
    "\n",
    "3.  Copy the API key and use in the url in Question 1.\n"
   ]
  },
  {
   "cell_type": "markdown",
   "metadata": {},
   "source": [
    "### Call the API\n",
    "\n",
    "<b> Question 1</b> Using the `requests` library call the endpoint given above and save the text, remember the first few characters of the output:\n"
   ]
  },
  {
   "cell_type": "code",
   "execution_count": 36,
   "metadata": {},
   "outputs": [],
   "source": [
    "# Write your code here\n",
    "url = \"http://api.exchangeratesapi.io/v1/latest?access_key=2158e6247bf608f854092650066a0fc5\"\n"
   ]
  },
  {
   "cell_type": "markdown",
   "metadata": {},
   "source": [
    "### Save as DataFrame\n",
    "\n",
    "<b> Question 2</b>  Using the data gathered turn it into a `pandas` dataframe. The dataframe should have the Currency as the index and `Rate` as their columns. Make sure to drop unnecessary columns.\n"
   ]
  },
  {
   "cell_type": "code",
   "execution_count": 46,
   "metadata": {},
   "outputs": [],
   "source": [
    "# Turn the data into a dataframe\n",
    "df=pd.read_json(url)"
   ]
  },
  {
   "cell_type": "code",
   "execution_count": 51,
   "metadata": {},
   "outputs": [
    {
     "data": {
      "text/html": [
       "<div>\n",
       "<style scoped>\n",
       "    .dataframe tbody tr th:only-of-type {\n",
       "        vertical-align: middle;\n",
       "    }\n",
       "\n",
       "    .dataframe tbody tr th {\n",
       "        vertical-align: top;\n",
       "    }\n",
       "\n",
       "    .dataframe thead th {\n",
       "        text-align: right;\n",
       "    }\n",
       "</style>\n",
       "<table border=\"1\" class=\"dataframe\">\n",
       "  <thead>\n",
       "    <tr style=\"text-align: right;\">\n",
       "      <th></th>\n",
       "      <th>rates</th>\n",
       "    </tr>\n",
       "  </thead>\n",
       "  <tbody>\n",
       "    <tr>\n",
       "      <th>AED</th>\n",
       "      <td>4.033986</td>\n",
       "    </tr>\n",
       "    <tr>\n",
       "      <th>AFN</th>\n",
       "      <td>96.760577</td>\n",
       "    </tr>\n",
       "    <tr>\n",
       "      <th>ALL</th>\n",
       "      <td>122.015508</td>\n",
       "    </tr>\n",
       "    <tr>\n",
       "      <th>AMD</th>\n",
       "      <td>538.261956</td>\n",
       "    </tr>\n",
       "    <tr>\n",
       "      <th>ANG</th>\n",
       "      <td>1.985401</td>\n",
       "    </tr>\n",
       "  </tbody>\n",
       "</table>\n",
       "</div>"
      ],
      "text/plain": [
       "          rates\n",
       "AED    4.033986\n",
       "AFN   96.760577\n",
       "ALL  122.015508\n",
       "AMD  538.261956\n",
       "ANG    1.985401"
      ]
     },
     "execution_count": 51,
     "metadata": {},
     "output_type": "execute_result"
    }
   ],
   "source": [
    "# Drop unnescessary columns\n",
    "df.drop(['success', 'timestamp','base','date'], axis=1, inplace=True)\n",
    "df.head()"
   ]
  },
  {
   "cell_type": "markdown",
   "metadata": {},
   "source": [
    "### Load the Data\n",
    "\n",
    "Using the dataframe save it as a CSV names `exchange_rates_1.csv`.\n"
   ]
  },
  {
   "cell_type": "code",
   "execution_count": 54,
   "metadata": {},
   "outputs": [
    {
     "name": "stdout",
     "output_type": "stream",
     "text": [
      ",rates\n",
      "AED,4.033986\n",
      "AFN,96.760577\n",
      "ALL,122.015508\n",
      "AMD,538.261956\n",
      "ANG,1.985401\n",
      "AOA,500.397579\n",
      "ARS,121.900419\n",
      "AUD,1.46237\n",
      "AWG,1.977452\n",
      "AZN,1.8701219999999998\n",
      "BAM,1.9554369999999999\n",
      "BBD,2.224354\n",
      "BDT,95.043422\n",
      "BGN,1.95553\n",
      "BHD,0.415317\n",
      "BIF,2259.456465\n",
      "BMD,1.09828\n",
      "BND,1.4938\n",
      "BOB,7.57378\n",
      "BRL,5.204033\n",
      "BSD,1.101679\n",
      "BTC,2.3610596e-05\n",
      "BTN,83.874264\n",
      "BWP,12.618967\n",
      "BYN,3.58798\n",
      "BYR,21526.279084\n",
      "BZD,2.220554\n",
      "CAD,1.370944\n",
      "CDF,2210.836905\n",
      "CHF,1.022114\n",
      "CLF,0.031508\n",
      "CLP,869.409486\n",
      "CNY,6.991974\n",
      "COP,4171.862592\n",
      "CRC,718.525772\n",
      "CUC,1.09828\n",
      "CUP,29.104408\n",
      "CVE,110.242871\n",
      "CZK,24.615135\n",
      "DJF,196.120633\n",
      "DKK,7.438642\n",
      "DOP,60.413873\n",
      "DZD,156.498586\n",
      "EGP,20.384292\n",
      "ERN,16.474199\n",
      "ETB,56.568345\n",
      "EUR,1.0\n",
      "FJD,2.287662\n",
      "FKP,0.842335\n",
      "GBP,0.833001\n",
      "GEL,3.524883\n",
      "GGP,0.842335\n",
      "GHS,8.06948\n",
      "GIP,0.842335\n",
      "GMD,59.411392\n",
      "GNF,9855.221786\n",
      "GTQ,8.471\n",
      "GYD,230.493734\n",
      "HKD,8.597788\n",
      "HNL,27.042572\n",
      "HRK,7.576372\n",
      "HTG,115.873741\n",
      "HUF,372.579804\n",
      "IDR,15768.438741\n",
      "ILS,3.53108\n",
      "IMP,0.842335\n",
      "INR,83.7828\n",
      "IQD,1607.837263\n",
      "IRR,46457.224789\n",
      "ISK,142.600947\n",
      "JEP,0.842335\n",
      "JMD,168.803117\n",
      "JOD,0.7786449999999999\n",
      "JPY,134.028568\n",
      "KES,126.412526\n",
      "KGS,104.600582\n",
      "KHR,4458.305096\n",
      "KMF,491.864732\n",
      "KPW,988.451975\n",
      "KRW,1345.886864\n",
      "KWD,0.334042\n",
      "KYD,0.9180159999999999\n",
      "KZT,542.961013\n",
      "LAK,12842.322193\n",
      "LBP,1665.865615\n",
      "LKR,319.466574\n",
      "LRD,168.09164\n",
      "LSL,15.979776\n",
      "LTL,3.242934\n",
      "LVL,0.664339\n",
      "LYD,5.140568\n",
      "MAD,10.669358\n",
      "MDL,20.187448\n",
      "MGA,4455.005758\n",
      "MKD,61.602635\n",
      "MMK,1958.870501\n",
      "MNT,3161.697271\n",
      "MOP,8.881317\n",
      "MRO,392.085609\n",
      "MUR,48.810202\n",
      "MVR,16.907395\n",
      "MWK,899.985348\n",
      "MXN,22.000571\n",
      "MYR,4.624312\n",
      "MZN,70.103757\n",
      "NAD,15.979794\n",
      "NGN,456.609183\n",
      "NIO,39.400091\n",
      "NOK,9.463375\n",
      "NPR,134.199063\n",
      "NZD,1.579554\n",
      "OMR,0.422825\n",
      "PAB,1.101579\n",
      "PEN,4.117374\n",
      "PGK,3.8817209999999998\n",
      "PHP,57.231471\n",
      "PKR,200.745205\n",
      "PLN,4.687936\n",
      "PYG,7668.960629\n",
      "QAR,3.998821\n",
      "RON,4.949012\n",
      "RSD,117.626389\n",
      "RUB,112.024685\n",
      "RWF,1119.565272\n",
      "SAR,4.119972\n",
      "SBD,8.825102\n",
      "SCR,15.831669\n",
      "SDG,490.930739\n",
      "SEK,10.347227\n",
      "SGD,1.491403\n",
      "SHP,1.512769\n",
      "SLL,13020.104068\n",
      "SOS,642.493142\n",
      "SRD,22.710197\n",
      "STD,22732.169166\n",
      "SVC,9.639065\n",
      "SYP,2758.878588\n",
      "SZL,16.050778\n",
      "THB,36.881876\n",
      "TJS,14.326724\n",
      "TMT,3.854961\n",
      "TND,3.24324\n",
      "TOP,2.469983\n",
      "TRY,16.292953\n",
      "TTD,7.493496\n",
      "TWD,31.502387\n",
      "TZS,2555.786983\n",
      "UAH,32.525771\n",
      "UGX,3965.903934\n",
      "USD,1.09828\n",
      "UYU,46.637639\n",
      "UZS,12679.314913\n",
      "VEF,234845359316.5108\n",
      "VND,25110.514379\n",
      "VUV,125.331932\n",
      "WST,2.879739\n",
      "XAF,655.825358\n",
      "XAG,0.043040999999999996\n",
      "XAU,0.000561\n",
      "XCD,2.968155\n",
      "XDR,0.79934\n",
      "XOF,655.825358\n",
      "XPF,119.712552\n",
      "YER,274.844534\n",
      "ZAR,15.975261\n",
      "ZMK,9885.836628\n",
      "ZMW,19.636658\n",
      "ZWL,353.645565\n",
      "\n"
     ]
    }
   ],
   "source": [
    "# Save the Dataframe\n",
    "exchange_rates_1=df.to_csv()\n",
    "print(exchange_rates_1)"
   ]
  },
  {
   "cell_type": "markdown",
   "metadata": {},
   "source": [
    "Your CSV should be in this format with more currencies\n",
    "\n",
    "|     | Rates      |\n",
    "| --- | ---------- |\n",
    "| AED | 4.398618   |\n",
    "| AFN | 92.917693  |\n",
    "| ALL | 123.099093 |\n",
    "| AMD | 621.935674 |\n",
    "| ANG | 2.149648   |\n"
   ]
  },
  {
   "cell_type": "markdown",
   "metadata": {},
   "source": [
    "## Authors\n"
   ]
  },
  {
   "cell_type": "markdown",
   "metadata": {},
   "source": [
    "Ramesh Sannareddy, Joseph Santarcangelo and Azim Hirjani\n"
   ]
  },
  {
   "cell_type": "markdown",
   "metadata": {},
   "source": [
    "### Other Contributors\n"
   ]
  },
  {
   "cell_type": "markdown",
   "metadata": {},
   "source": [
    "Rav Ahuja\n"
   ]
  },
  {
   "cell_type": "markdown",
   "metadata": {},
   "source": [
    "## Change Log\n"
   ]
  },
  {
   "cell_type": "markdown",
   "metadata": {},
   "source": [
    "| Date (YYYY-MM-DD) | Version | Changed By        | Change Description                 |\n",
    "| ----------------- | ------- | ----------------- | ---------------------------------- |\n",
    "| 2021-04-15        | 0.2     | Malika            | Updated the lab from USD to EUR    |\n",
    "| 2020-11-25        | 0.1     | Ramesh Sannareddy | Created initial version of the lab |\n"
   ]
  },
  {
   "cell_type": "markdown",
   "metadata": {},
   "source": [
    "Copyright © 2020 IBM Corporation. This notebook and its source code are released under the terms of the [MIT License](https://cognitiveclass.ai/mit-license?utm_medium=Exinfluencer&utm_source=Exinfluencer&utm_content=000026UJ&utm_term=10006555&utm_id=NA-SkillsNetwork-Channel-SkillsNetworkCoursesIBMDeveloperSkillsNetworkPY0221ENSkillsNetwork23455645-2021-01-01&cm_mmc=Email_Newsletter-\\_-Developer_Ed%2BTech-\\_-WW_WW-\\_-SkillsNetwork-Courses-IBM-DA0321EN-SkillsNetwork-21426264&cm_mmca1=000026UJ&cm_mmca2=10006555&cm_mmca3=M12345678&cvosrc=email.Newsletter.M12345678&cvo_campaign=000026UJ).\n"
   ]
  }
 ],
 "metadata": {
  "kernelspec": {
   "display_name": "Python",
   "language": "python",
   "name": "conda-env-python-py"
  },
  "language_info": {
   "codemirror_mode": {
    "name": "ipython",
    "version": 3
   },
   "file_extension": ".py",
   "mimetype": "text/x-python",
   "name": "python",
   "nbconvert_exporter": "python",
   "pygments_lexer": "ipython3",
   "version": "3.7.12"
  }
 },
 "nbformat": 4,
 "nbformat_minor": 4
}
